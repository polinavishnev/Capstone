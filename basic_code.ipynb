{
 "cells": [
  {
   "attachments": {},
   "cell_type": "markdown",
   "metadata": {},
   "source": [
    "### Basic "
   ]
  },
  {
   "cell_type": "code",
   "execution_count": 2,
   "metadata": {},
   "outputs": [
    {
     "name": "stdout",
     "output_type": "stream",
     "text": [
      "Great goal! You can do it!\n",
      "Great goal! You can do it!\n",
      "Great goal! You can do it!\n",
      "Great goal! You can do it!\n",
      "Great goal! You can do it!\n"
     ]
    }
   ],
   "source": [
    "goals = [\"exercise\", \"read a book\", \"learn a new skill\"]\n",
    "responses = [\"Great goal! You can do it!\", \"That's an excellent choice!\", \"Awesome! You've got this!\"]\n",
    "\n",
    "def process_user_input(user_input):\n",
    "    if user_input.lower() in goals:\n",
    "        response = responses[goals.index(user_input.lower())]\n",
    "    else:\n",
    "        response = \"I'm sorry, I didn't understand. Please choose a goal from the options provided.\"\n",
    "    return response\n",
    "\n",
    "interactions = 0\n",
    "while interactions < 5:  # Limit to 5 interactions for simplicity\n",
    "    user_input = input(\"Enter a goal: \")\n",
    "    response = process_user_input(user_input)\n",
    "    print(response)\n",
    "    interactions += 1\n"
   ]
  },
  {
   "cell_type": "code",
   "execution_count": 3,
   "metadata": {},
   "outputs": [
    {
     "name": "stdout",
     "output_type": "stream",
     "text": [
      "Great goal! You can do it! ['Hi!']\n",
      "Great goal! You can do it! ['Hi!', 'hello!']\n",
      "Great goal! You can do it! ['Hi!', 'hello!', 'hi!!']\n",
      "Great goal! You can do it! ['Hi!', 'hello!', 'hi!!', 'Hello']\n",
      "Great goal! You can do it! ['Hi!', 'hello!', 'hi!!', 'Hello', 'greeting']\n"
     ]
    }
   ],
   "source": [
    "dataset = [(\"Exercise\", \"goal\"),\n",
    "           (\"Read a book\", \"goal\"),\n",
    "           (\"Learn a new skill\", \"goal\"),\n",
    "           (\"What are some tips for staying motivated?\", \"question\"),\n",
    "           (\"Hello\", \"greeting\"),\n",
    "           (\"How do I track my progress?\", \"question\")]\n",
    "\n",
    "from sklearn.feature_extraction.text import CountVectorizer\n",
    "from sklearn.naive_bayes import MultinomialNB\n",
    "\n",
    "# Extract features from text inputs\n",
    "vectorizer = CountVectorizer()\n",
    "X = vectorizer.fit_transform([example[0] for example in dataset])\n",
    "y = [example[1] for example in dataset]\n",
    "\n",
    "# Train a Naive Bayes classifier\n",
    "clf = MultinomialNB()\n",
    "clf.fit(X, y)\n",
    "\n",
    "\n",
    "def process_user_input(user_input, goal_list):\n",
    "    # Extract features from user input\n",
    "    user_input_vector = vectorizer.transform([user_input])\n",
    "    \n",
    "    # Predict intent using the trained classifier\n",
    "    intent = clf.predict(user_input_vector)[0]\n",
    "    \n",
    "    # Generate response based on intent\n",
    "    if intent == \"goal\":\n",
    "        response = \"Great goal! You can do it!\"\n",
    "        goal_list.append(user_input)\n",
    "    elif intent == \"question\":\n",
    "        response = \"That's a great question! Here's some information on that...\"\n",
    "    elif intent == \"greeting\":\n",
    "        response = \"Hello! How can I help you today?\"\n",
    "    else:\n",
    "        response = \"I'm sorry, I didn't understand. Please provide more information.\"\n",
    "    \n",
    "    return response, goal_list\n",
    "\n",
    "interactions = 0\n",
    "goal_list = []\n",
    "\n",
    "while interactions < 5:  # Limit to 5 interactions for simplicity\n",
    "    user_input = input(\"Talk to the bot: \")\n",
    "    response, goal_list = process_user_input(user_input, goal_list)\n",
    "    print(response, goal_list)\n",
    "    interactions += 1\n",
    "\n",
    "\n"
   ]
  },
  {
   "cell_type": "code",
   "execution_count": 4,
   "metadata": {},
   "outputs": [],
   "source": [
    "import nltk\n",
    "from nltk.tokenize import word_tokenize, sent_tokenize\n",
    "\n",
    "# User input\n",
    "user_input = \"I want to exercise more regularly and lose 10 pounds by the end of this month.\"\n",
    "\n",
    "# Tokenize input\n",
    "sentences = sent_tokenize(user_input)\n",
    "words = [word_tokenize(sent) for sent in sentences]\n",
    "words = [word for sublist in words for word in sublist]\n",
    "\n",
    "# Extract relevant information\n",
    "goal = \"\"\n",
    "timeframe = \"\"\n",
    "outcome = \"\"\n",
    "measurable = False\n",
    "\n",
    "for word in words:\n",
    "    if word.lower() in [\"exercise\", \"workout\", \"fitness\"]:\n",
    "        goal = word\n",
    "    elif word.isdigit():\n",
    "        outcome = int(word)\n",
    "        measurable = True\n",
    "    elif word in [\"pounds\", \"kg\", \"kilograms\"]:\n",
    "        measurable = True\n",
    "    elif word in [\"month\", \"months\", \"end of this month\"]:\n",
    "        timeframe = \"this month\"\n",
    "\n",
    "# Validate specificity\n",
    "if not goal:\n",
    "    print(\"Please provide a more specific goal.\")\n",
    "\n",
    "# Validate measurability\n",
    "if not measurable:\n",
    "    print(\"Please provide a measurable outcome for your goal.\")\n",
    "\n",
    "# Validate achievability\n",
    "if outcome <= 0:\n",
    "    print(\"Please provide a positive outcome for your goal.\")\n",
    "elif timeframe == \"this month\" and outcome > 10:\n",
    "    print(\"Losing more than 10 pounds in a month may not be achievable in a healthy manner.\")\n",
    "\n",
    "# Validate relevance\n",
    "if not timeframe:\n",
    "    print(\"Please provide a timeframe for your goal.\")\n",
    "\n",
    "# Validate time-bound\n",
    "if not timeframe:\n",
    "    print(\"Please provide a timeframe for your goal.\")\n",
    "\n",
    "# Provide feedback or suggestions\n",
    "if not goal or not measurable or not timeframe:\n",
    "    print(\"Consider revising your goal to make it SMART by providing a more specific goal, a measurable outcome, and a timeframe.\")\n"
   ]
  },
  {
   "cell_type": "code",
   "execution_count": 6,
   "metadata": {},
   "outputs": [
    {
     "name": "stdout",
     "output_type": "stream",
     "text": [
      "You have made 50% progress towards your goal of exercise within the timeframe of this month. Keep going!\n"
     ]
    }
   ],
   "source": [
    "def check_in_with_user(goal, timeframe):\n",
    "    \"\"\"\n",
    "    Function to check in with the user about their progress towards their goal.\n",
    "    Args:\n",
    "        goal (str): The user's goal.\n",
    "        timeframe (str): The timeframe for the goal.\n",
    "    Returns:\n",
    "        str: A check-in message.\n",
    "    \"\"\"\n",
    "\n",
    "    # Replace with your own logic for checking progress\n",
    "    # You can use external data, APIs, or other techniques to retrieve progress data\n",
    "    progress = 0  # Placeholder for progress percentage\n",
    "    goal_met = False  # Placeholder for goal achievement status\n",
    "\n",
    "    # Logic for checking progress\n",
    "    # Replace with your own criteria based on the specific goal and timeframe\n",
    "    if goal == \"exercise\" and timeframe == \"this month\":\n",
    "        progress = 50  # Placeholder for progress percentage\n",
    "        goal_met = False  # Placeholder for goal achievement status\n",
    "\n",
    "    # Generate check-in message based on progress and goal achievement status\n",
    "    if goal_met:\n",
    "        return f\"Congratulations on achieving your goal of {goal} within the timeframe of {timeframe}!\"\n",
    "    else:\n",
    "        return f\"You have made {progress}% progress towards your goal of {goal} within the timeframe of {timeframe}. Keep going!\"\n",
    "\n",
    "# Example usage\n",
    "goal = \"exercise\"\n",
    "timeframe = \"this month\"\n",
    "check_in_message = check_in_with_user(goal, timeframe)\n",
    "print(check_in_message)\n"
   ]
  },
  {
   "cell_type": "code",
   "execution_count": null,
   "metadata": {},
   "outputs": [],
   "source": []
  }
 ],
 "metadata": {
  "kernelspec": {
   "display_name": "Python 3",
   "language": "python",
   "name": "python3"
  },
  "language_info": {
   "codemirror_mode": {
    "name": "ipython",
    "version": 3
   },
   "file_extension": ".py",
   "mimetype": "text/x-python",
   "name": "python",
   "nbconvert_exporter": "python",
   "pygments_lexer": "ipython3",
   "version": "3.10.5"
  },
  "orig_nbformat": 4
 },
 "nbformat": 4,
 "nbformat_minor": 2
}
